{
 "cells": [
  {
   "cell_type": "code",
   "execution_count": 1,
   "id": "b13b20f1-aa91-44bd-862b-304753485736",
   "metadata": {},
   "outputs": [
    {
     "name": "stdout",
     "output_type": "stream",
     "text": [
      "Downloading sudoku, 71415479 bytes zipped\n",
      "[==================================================] 71415479 bytes downloaded\n",
      "Unzipping sudoku\n",
      "Dataset import complete.\n"
     ]
    }
   ],
   "source": [
    "\n",
    "# IMPORTANT: RUN THIS CELL IN ORDER TO IMPORT YOUR KAGGLE DATASETS\n",
    "# TO THE CORRECT LOCATION (/kaggle/input) IN YOUR NOTEBOOK,\n",
    "# THEN FEEL FREE TO DELETE CELL.\n",
    "\n",
    "import os\n",
    "import sys\n",
    "from tempfile import NamedTemporaryFile\n",
    "from urllib.request import urlopen\n",
    "from urllib.parse import unquote\n",
    "from urllib.error import HTTPError\n",
    "from zipfile import ZipFile\n",
    "\n",
    "CHUNK_SIZE = 40960\n",
    "DATASET_MAPPING = 'sudoku:https%3A%2F%2Fstorage.googleapis.com%2Fkaggle-data-sets%2F595%2F1134%2Fbundle%2Farchive.zip%3FX-Goog-Algorithm%3DGOOG4-RSA-SHA256%26X-Goog-Credential%3Dgcp-kaggle-com%2540kaggle-161607.iam.gserviceaccount.com%252F20220409%252Fauto%252Fstorage%252Fgoog4_request%26X-Goog-Date%3D20220409T131850Z%26X-Goog-Expires%3D259199%26X-Goog-SignedHeaders%3Dhost%26X-Goog-Signature%3D630401612e0b47626e54ec0d99388168a1cee906dfa38cacabfa3411331c46df571e35af1c3ff1c068a9eb09c935a80999568fbce62cee30a29b455d9af905b2696fe2d0872f0e93604dc4cf8cd81a81297e1ee8897f8d4f3a0d3ebf4045c5615d1da8e795f13005dcda2d44cc267f6c3187aff10410127c911fabb31004426f39dc4c8aa845a7cf3f26edcc7a84ceda1b7f682f49203cd9b9b42124c4d3acd8be177320ed15d90594a683dcca2a9ea856a129fbe3224858e3ef296002fdea94d9f0d9608526223ea660d4e3f8346f0478d93eab92102c6f6d769dfb9512c3ceee21052b7fc234208b08b8172800ac1ae0103368e53a8f04de8fee3c28200f9e'\n",
    "KAGGLE_INPUT_PATH='/home/kaggle/input'\n",
    "KAGGLE_INPUT_SYMLINK='/kaggle'\n",
    "\n",
    "# os.makedirs(KAGGLE_INPUT_PATH, 777)\n",
    "# os.symlink(KAGGLE_INPUT_PATH, os.path.join('..', 'input'), target_is_directory=True)\n",
    "# os.makedirs(KAGGLE_INPUT_SYMLINK)\n",
    "# os.symlink(KAGGLE_INPUT_PATH, os.path.join(KAGGLE_INPUT_SYMLINK, 'input'), target_is_directory=True)\n",
    "\n",
    "for dataset_mapping in DATASET_MAPPING.split(','):\n",
    "    directory, download_url_encoded = dataset_mapping.split(':')\n",
    "    download_url = unquote(download_url_encoded)\n",
    "    destination_path = os.path.join(KAGGLE_INPUT_PATH, directory)\n",
    "    try:\n",
    "        with urlopen(download_url) as zipfileres, NamedTemporaryFile() as tfile:\n",
    "            total_length = zipfileres.headers['content-length']\n",
    "            print(f'Downloading {directory}, {total_length} bytes zipped')\n",
    "            dl = 0\n",
    "            data = zipfileres.read(CHUNK_SIZE)\n",
    "            while len(data) > 0:\n",
    "                dl += len(data)\n",
    "                tfile.write(data)\n",
    "                done = int(50 * dl / int(total_length))\n",
    "                sys.stdout.write(f\"\\r[{'=' * done}{' ' * (50-done)}] {dl} bytes downloaded\")\n",
    "                sys.stdout.flush()\n",
    "                data = zipfileres.read(CHUNK_SIZE)\n",
    "            print(f'\\nUnzipping {directory}')\n",
    "            with ZipFile(tfile) as zfile:\n",
    "                zfile.extractall(destination_path)\n",
    "    except HTTPError as e:\n",
    "        print(f'Failed to load (likely expired) {download_url} to path {destination_path}')\n",
    "        continue\n",
    "    except OSError as e:\n",
    "        print(f'Failed to load {download_url} to path {destination_path}')\n",
    "        continue\n",
    "print('Dataset import complete.')\n"
   ]
  },
  {
   "cell_type": "code",
   "execution_count": 2,
   "id": "b539e3c2-00cf-49b0-8440-7e198b99aa5f",
   "metadata": {},
   "outputs": [
    {
     "name": "stdout",
     "output_type": "stream",
     "text": [
      "/kaggle/input/sudoku/sudoku.csv\n"
     ]
    }
   ],
   "source": [
    "# This Python 3 environment comes with many helpful analytics libraries installed\n",
    "# It is defined by the kaggle/python docker image: https://github.com/kaggle/docker-python\n",
    "# For example, here's several helpful packages to load in \n",
    "\n",
    "import numpy as np # linear algebra\n",
    "import pandas as pd # data processing, CSV file I/O (e.g. pd.read_csv)\n",
    "\n",
    "# Input data files are available in the \"../input/\" directory.\n",
    "# For example, running this (by clicking run or pressing Shift+Enter) will list all files under the input directory\n",
    "\n",
    "import os\n",
    "for dirname, _, filenames in os.walk('/kaggle/input'):\n",
    "    for filename in filenames:\n",
    "        print(os.path.join(dirname, filename))\n",
    "\n",
    "# Any results you write to the current directory are saved as output."
   ]
  },
  {
   "cell_type": "code",
   "execution_count": 3,
   "id": "fa1b59a3-c684-454b-b25f-7f9a69c0da51",
   "metadata": {},
   "outputs": [
    {
     "name": "stdout",
     "output_type": "stream",
     "text": [
      "                                                  quizzes  \\\n",
      "count                                             1000000   \n",
      "unique                                            1000000   \n",
      "top     0043002090050090010700600430060020871900074000...   \n",
      "freq                                                    1   \n",
      "\n",
      "                                                solutions  \n",
      "count                                             1000000  \n",
      "unique                                            1000000  \n",
      "top     8643712593258497619712658434361925871986574322...  \n",
      "freq                                                    1  \n",
      "                                             quizzes  \\\n",
      "0  0043002090050090010700600430060020871900074000...   \n",
      "1  0401000501070039605200080000000000170009068008...   \n",
      "2  6001203840084590720000060050002640300700800069...   \n",
      "3  4972000001004000050000160986203000403009000000...   \n",
      "4  0059103080094030600275001000300002010008200070...   \n",
      "\n",
      "                                           solutions  \n",
      "0  8643712593258497619712658434361925871986574322...  \n",
      "1  3461792581875239645296483719658324174729168358...  \n",
      "2  6951273841384596727248369158512647392739815469...  \n",
      "3  4972583161864397252537164986293815473759641828...  \n",
      "4  4659123781894735623275681497386452919548216372...  \n"
     ]
    }
   ],
   "source": [
    "file = '/kaggle/input/sudoku/sudoku.csv'\n",
    "df = pd.read_csv(file)\n",
    "print(df.describe())\n",
    "print(df.head())"
   ]
  },
  {
   "cell_type": "code",
   "execution_count": 4,
   "id": "090d5ffb-b135-45ad-a9b9-849d60a95896",
   "metadata": {},
   "outputs": [],
   "source": [
    "raw_quiz = df['quizzes']\n",
    "raw_solutions =df['solutions']\n",
    "\n",
    "quiz = []\n",
    "soln = []\n"
   ]
  },
  {
   "cell_type": "code",
   "execution_count": 5,
   "id": "0336919c-76af-4a96-bf65-bbca7b7b2571",
   "metadata": {},
   "outputs": [],
   "source": [
    "for i in raw_quiz:\n",
    "    x=np.array([int(j)for j in i]).reshape((9,9,1))\n",
    "    quiz.append(x)\n",
    "# Resizing the input to make the input 0 centric\n",
    "quiz = np.array(quiz)\n",
    "quiz = quiz/9\n",
    "quiz -= .5\n",
    "\n",
    "for i in raw_solutions:\n",
    "    x=np.array([int(j)for j in i]).reshape((81,1)) - 1\n",
    "    soln.append(x)\n",
    "soln = np.array(soln)"
   ]
  },
  {
   "cell_type": "code",
   "execution_count": 6,
   "id": "e0337989-e28a-4837-b81d-accfd86e6a24",
   "metadata": {},
   "outputs": [
    {
     "name": "stdout",
     "output_type": "stream",
     "text": [
      "(1000000, 81, 1) (1000000, 9, 9, 1)\n"
     ]
    }
   ],
   "source": [
    "print(soln.shape,quiz.shape)"
   ]
  },
  {
   "cell_type": "code",
   "execution_count": 7,
   "id": "d4e2281e-eceb-425d-aef7-7e97d971f619",
   "metadata": {},
   "outputs": [],
   "source": [
    "from sklearn.model_selection import train_test_split\n",
    "X_train, X_test, y_train, y_test = train_test_split(quiz,soln, test_size=0.3, random_state=42)"
   ]
  },
  {
   "cell_type": "code",
   "execution_count": 8,
   "id": "9d12bf8b-e304-4cf7-badd-9ab69cf8a571",
   "metadata": {},
   "outputs": [],
   "source": [
    "import keras\n",
    "from keras.layers import Activation\n",
    "from keras.layers import Conv2D, BatchNormalization, Dense, Flatten, Reshape\n",
    "\n",
    "def get_model():\n",
    "\n",
    "    model = keras.models.Sequential()\n",
    "\n",
    "    model.add(Conv2D(128, kernel_size=(3,3), activation='relu', padding='same', input_shape=(9,9,1)))\n",
    "    model.add(BatchNormalization())\n",
    "    model.add(Conv2D(64, kernel_size=(3,3), activation='relu', padding='same'))\n",
    "    model.add(BatchNormalization())\n",
    "    model.add(Conv2D(128, kernel_size=(1,1), activation='relu', padding='same'))\n",
    "\n",
    "    model.add(Flatten())\n",
    "    model.add(Dense(81*9))\n",
    "    model.add(Reshape((-1, 9)))\n",
    "    model.add(Activation('softmax'))\n",
    "    \n",
    "    return model"
   ]
  },
  {
   "cell_type": "code",
   "execution_count": 9,
   "id": "34a40c66-f4da-40b7-b4bc-03d5dd477908",
   "metadata": {},
   "outputs": [
    {
     "name": "stderr",
     "output_type": "stream",
     "text": [
      "2022-04-10 04:26:11.840149: I tensorflow/core/common_runtime/process_util.cc:146] Creating new thread pool with default inter op setting: 2. Tune using inter_op_parallelism_threads for best performance.\n",
      "2022-04-10 04:26:14.228250: I tensorflow/compiler/mlir/mlir_graph_optimization_pass.cc:185] None of the MLIR Optimization Passes are enabled (registered 2)\n"
     ]
    },
    {
     "name": "stdout",
     "output_type": "stream",
     "text": [
      "Epoch 1/30\n",
      "2618/2618 [==============================] - 459s 175ms/step - loss: 0.6352 - accuracy: 0.7381\n",
      "Epoch 2/30\n",
      "2618/2618 [==============================] - 457s 175ms/step - loss: 0.3855 - accuracy: 0.8195\n",
      "Epoch 3/30\n",
      "2618/2618 [==============================] - 453s 173ms/step - loss: 0.3628 - accuracy: 0.8288\n",
      "Epoch 4/30\n",
      "2618/2618 [==============================] - 452s 173ms/step - loss: 0.3481 - accuracy: 0.8369\n",
      "Epoch 5/30\n",
      "2618/2618 [==============================] - 452s 173ms/step - loss: 0.3359 - accuracy: 0.8444\n",
      "Epoch 6/30\n",
      "2618/2618 [==============================] - 452s 172ms/step - loss: 0.3263 - accuracy: 0.8502\n",
      "Epoch 7/30\n",
      "2618/2618 [==============================] - 447s 171ms/step - loss: 0.3137 - accuracy: 0.8577\n",
      "Epoch 9/30\n",
      "2618/2618 [==============================] - 448s 171ms/step - loss: 0.3095 - accuracy: 0.8602\n",
      "Epoch 10/30\n",
      "2618/2618 [==============================] - 448s 171ms/step - loss: 0.3062 - accuracy: 0.8622\n",
      "Epoch 11/30\n",
      "2618/2618 [==============================] - 448s 171ms/step - loss: 0.3034 - accuracy: 0.8638\n",
      "Epoch 12/30\n",
      "2618/2618 [==============================] - 451s 172ms/step - loss: 0.3010 - accuracy: 0.8652\n",
      "Epoch 13/30\n",
      "2618/2618 [==============================] - 452s 172ms/step - loss: 0.2991 - accuracy: 0.8663\n",
      "Epoch 14/30\n",
      "2618/2618 [==============================] - 451s 172ms/step - loss: 0.2973 - accuracy: 0.8673\n",
      "Epoch 15/30\n",
      "2618/2618 [==============================] - 451s 172ms/step - loss: 0.2957 - accuracy: 0.8682\n",
      "Epoch 16/30\n",
      "2618/2618 [==============================] - 453s 173ms/step - loss: 0.2943 - accuracy: 0.8690\n",
      "Epoch 17/30\n",
      "2618/2618 [==============================] - 451s 172ms/step - loss: 0.2931 - accuracy: 0.8697\n",
      "Epoch 18/30\n",
      "2618/2618 [==============================] - 451s 172ms/step - loss: 0.2920 - accuracy: 0.8703\n",
      "Epoch 19/30\n",
      "2618/2618 [==============================] - 480s 183ms/step - loss: 0.2831 - accuracy: 0.8753\n"
     ]
    }
   ],
   "source": [
    "model = get_model()\n",
    "# model.compile(loss='mse',optimizer='adam',metrics=['accuracy'])\n",
    "import tensorflow as tf \n",
    "adam = tf.optimizers.Adam(.001)\n",
    "# adam = keras.optimizers.Adam(lr=.001)\n",
    "model.compile(loss='sparse_categorical_crossentropy', optimizer=adam,metrics=['accuracy'])\n",
    "\n",
    "history = model.fit(X_train, y_train, batch_size=256, epochs=30)\n",
    "\n",
    "# model.fit(X_train, y_train, batch_size=256, epochs=30)"
   ]
  },
  {
   "cell_type": "code",
   "execution_count": 13,
   "id": "8bac34a2-2698-491c-85b7-c63bc9a7c4c0",
   "metadata": {},
   "outputs": [
    {
     "data": {
      "image/png": "[encoded data removed]",
      "text/plain": [
       "<Figure size 432x288 with 1 Axes>"
      ]
     },
     "metadata": {
      "needs_background": "light"
     },
     "output_type": "display_data"
    }
   ],
   "source": [
    "\n",
    "\n",
    "import matplotlib.pyplot as plt\n",
    "plt.plot(history.history['loss'])\n",
    "plt.plot(history.history['accuracy'])\n",
    "plt.title('model accuracy')\n",
    "plt.ylabel('accuracy')\n",
    "plt.xlabel('epoch')\n",
    "plt.legend(['train', 'accuracy'], loc='upper left')\n",
    "plt.show()"
   ]
  },
  {
   "cell_type": "code",
   "execution_count": 11,
   "id": "6b2cea29-2fd8-4ea6-bbb4-65e67cc58bc6",
   "metadata": {},
   "outputs": [],
   "source": [
    "model.save('model_b256_e30.h5')"
   ]
  },
  {
   "cell_type": "code",
   "execution_count": null,
   "id": "98382400-5f92-4008-8775-76972e943fe6",
   "metadata": {},
   "outputs": [],
   "source": []
  }
 ],
 "metadata": {
  "kernelspec": {
   "display_name": "Python 3 (ipykernel)",
   "language": "python",
   "name": "python3"
  },
  "language_info": {
   "codemirror_mode": {
    "name": "ipython",
    "version": 3
   },
   "file_extension": ".py",
   "mimetype": "text/x-python",
   "name": "python",
   "nbconvert_exporter": "python",
   "pygments_lexer": "ipython3",
   "version": "3.7.12"
  }
 },
 "nbformat": 4,
 "nbformat_minor": 5
}
